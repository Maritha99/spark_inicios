{
  "nbformat": 4,
  "nbformat_minor": 0,
  "metadata": {
    "colab": {
      "provenance": []
    },
    "kernelspec": {
      "name": "python3",
      "display_name": "Python 3"
    },
    "language_info": {
      "name": "python"
    }
  },
  "cells": [
    {
      "cell_type": "markdown",
      "source": [
        "**NOMBRE:** MARÍA ELIZABETH OLIVA GONZALES"
      ],
      "metadata": {
        "id": "y5tEr1B0esnn"
      }
    },
    {
      "cell_type": "markdown",
      "source": [
        "# **Inicializar Spark**"
      ],
      "metadata": {
        "id": "vwULblbkObtL"
      }
    },
    {
      "cell_type": "code",
      "metadata": {
        "id": "nY9MEKKfYb6T"
      },
      "source": [
        "#INSTALACION\n",
        "\n",
        "# instalar JAVA\n",
        "!apt-get install openjdk-8-jdk-headless -qq > /dev/null\n",
        "\n",
        "# instalar Spark\n",
        "!wget -q http://archive.apache.org/dist/spark/spark-3.1.1/spark-3.1.1-bin-hadoop3.2.tgz\n",
        "!tar xf spark-3.1.1-bin-hadoop3.2.tgz\n",
        "\n",
        "# instalar para usar con pypthon\n",
        "!pip install -q findspark"
      ],
      "execution_count": null,
      "outputs": []
    },
    {
      "cell_type": "markdown",
      "source": [
        "la librería ***os*** proporciona una forma de interactuar con el sistema operativo. Proporciona una interfaz para trabajar con archivos, directorios, variables de entorno, procesos y otras funcionalidades relacionadas con el sistema operativo. Es parte de la biblioteca estándar de Python, lo que significa que no es necesario instalarla adicionalmente y está disponible en cualquier instalación de Python."
      ],
      "metadata": {
        "id": "dgruncsZRKgr"
      }
    },
    {
      "cell_type": "code",
      "execution_count": null,
      "metadata": {
        "id": "sl0qEwmaOKZI"
      },
      "outputs": [],
      "source": [
        "# se establece estas variables de entorno antes de iniciar Spark en Python porque las usa para encontrar la ubicación de Java y Spark en el sistema operativo.\n",
        "import os\n",
        "os.environ[\"JAVA_HOME\"] = \"/usr/lib/jvm/java-8-openjdk-amd64\"\n",
        "os.environ[\"SPARK_HOME\"] = \"/content/spark-3.1.1-bin-hadoop3.2\""
      ]
    },
    {
      "cell_type": "markdown",
      "source": [
        "**_findspark_** es una librería de Python que nos permite utilizar Spark en Python sin necesidad de instalarlo como una dependencia del sistema.\n",
        "\n",
        "La ***función init()*** de findspark *establece las variables de entorno necesarias* para que Spark pueda ser utilizado desde Python, utilizando la ruta del directorio donde se encuentra Spark instalado en el sistema. Esto nos permite utilizar Spark en Python sin necesidad de configurar las variables de entorno manualmente cada vez que se inicia una sesión."
      ],
      "metadata": {
        "id": "ucaqTfXhQtQz"
      }
    },
    {
      "cell_type": "code",
      "source": [
        "import findspark\n",
        "findspark.init()"
      ],
      "metadata": {
        "id": "7NwOTu2ePrsO"
      },
      "execution_count": null,
      "outputs": []
    },
    {
      "cell_type": "markdown",
      "source": [
        "## Parte 1"
      ],
      "metadata": {
        "id": "AIexj0Y1Cbus"
      }
    },
    {
      "cell_type": "markdown",
      "source": [
        "### 1. Crea un **DataFrame** a partir del siguiente conjunto de datos de ejemplo:\n",
        "\n",
        "\n",
        "\n",
        "```\n",
        "data = [(\"Alice\", \"F\", 25),\n",
        "  (\"Bob\", \"M\", 30),\n",
        "  (\"Charlie\", \"M\", 45),\n",
        "  (\"Dave\", \"M\", 50),\n",
        "  (\"Eve\", \"F\", 35)]\n",
        "df = spark.createDataFrame(data, [\"nombre\", \"genero\", \"edad\"])\n",
        "df.show()\n",
        "\n",
        "```\n",
        "\n"
      ],
      "metadata": {
        "id": "LyzeGKQU9DaM"
      }
    },
    {
      "cell_type": "code",
      "execution_count": null,
      "metadata": {
        "id": "Z_96Cqhq1A0H"
      },
      "outputs": [],
      "source": [
        "# Importar libreria:\n",
        "from pyspark.sql import SparkSession\n",
        "\n",
        "# Inicializando sesion:\n",
        "spark = SparkSession.builder.appName(\"nombres_df\").getOrCreate()"
      ]
    },
    {
      "cell_type": "code",
      "source": [
        "# definir los datos como una lista de tuplas:\n",
        "data = [(\"Alice\", \"F\", 25),\n",
        "        (\"Bob\", \"M\", 30),\n",
        "        (\"Charlie\", \"M\", 45),\n",
        "        (\"Dave\", \"M\", 50),\n",
        "        (\"Eve\", \"F\", 35)]"
      ],
      "metadata": {
        "id": "7YO-nfh_Nh_q"
      },
      "execution_count": null,
      "outputs": []
    },
    {
      "cell_type": "code",
      "source": [
        "# CREANDO EL DATA FRAME:\n",
        "df = spark.createDataFrame(data, [\"nombre\", \"genero\", \"edad\"])\n",
        "df.show() # mostrar df"
      ],
      "metadata": {
        "colab": {
          "base_uri": "https://localhost:8080/"
        },
        "id": "phGcunGXNurQ",
        "outputId": "13c294ff-9291-45e6-f48c-5f1ac08e4dbf"
      },
      "execution_count": null,
      "outputs": [
        {
          "output_type": "stream",
          "name": "stdout",
          "text": [
            "+-------+------+----+\n",
            "| nombre|genero|edad|\n",
            "+-------+------+----+\n",
            "|  Alice|     F|  25|\n",
            "|    Bob|     M|  30|\n",
            "|Charlie|     M|  45|\n",
            "|   Dave|     M|  50|\n",
            "|    Eve|     F|  35|\n",
            "+-------+------+----+\n",
            "\n"
          ]
        }
      ]
    },
    {
      "cell_type": "markdown",
      "source": [
        "### 2. Usa la función **printSchema()** para imprimir el esquema del DataFrame."
      ],
      "metadata": {
        "id": "TT5a7ioX9cFM"
      }
    },
    {
      "cell_type": "code",
      "source": [
        "df.printSchema()"
      ],
      "metadata": {
        "colab": {
          "base_uri": "https://localhost:8080/"
        },
        "id": "NJDm7TeQOzRi",
        "outputId": "3629bd1a-28bd-460e-dd77-2e9c99c00274"
      },
      "execution_count": null,
      "outputs": [
        {
          "output_type": "stream",
          "name": "stdout",
          "text": [
            "root\n",
            " |-- nombre: string (nullable = true)\n",
            " |-- genero: string (nullable = true)\n",
            " |-- edad: long (nullable = true)\n",
            "\n"
          ]
        }
      ]
    },
    {
      "cell_type": "markdown",
      "source": [
        "### 3. Usa la función **describe()** para obtener estadísticas descriptivas del DataFrame"
      ],
      "metadata": {
        "id": "3Q8XmFfI9gKT"
      }
    },
    {
      "cell_type": "markdown",
      "source": [
        "**describe()** calcula automáticamente algunas estadísticas descriptivas del DataFrame, como:\n",
        "- la cantidad de filas\n",
        "- la media\n",
        "- la desviación estándar\n",
        "- el valor mínimo de cada columna numérica del DataFrame\n",
        "- el valor máximo de cada columna numérica del DataFrame \n",
        "- las columnas no numéricas, solo se muestra la cantidad de filas."
      ],
      "metadata": {
        "id": "Km4ea_5tPXSL"
      }
    },
    {
      "cell_type": "code",
      "source": [
        "df.describe().show()"
      ],
      "metadata": {
        "colab": {
          "base_uri": "https://localhost:8080/"
        },
        "id": "7ZDXroQqPQgD",
        "outputId": "69c0b120-96e8-4b04-f78d-1f332ba9b6bc"
      },
      "execution_count": null,
      "outputs": [
        {
          "output_type": "stream",
          "name": "stdout",
          "text": [
            "+-------+------+------+-----------------+\n",
            "|summary|nombre|genero|             edad|\n",
            "+-------+------+------+-----------------+\n",
            "|  count|     5|     5|                5|\n",
            "|   mean|  null|  null|             37.0|\n",
            "| stddev|  null|  null|10.36822067666386|\n",
            "|    min| Alice|     F|               25|\n",
            "|    max|   Eve|     M|               50|\n",
            "+-------+------+------+-----------------+\n",
            "\n"
          ]
        }
      ]
    },
    {
      "cell_type": "markdown",
      "source": [
        "### 4. Usa la función **filter()** para seleccionar las filas donde el género es \"M\". Muestra las primeras 5 filas del DataFrame resultante."
      ],
      "metadata": {
        "id": "3G2Exli69lQZ"
      }
    },
    {
      "cell_type": "markdown",
      "source": [
        "**filter()**:\n",
        "- No modifica el DataFrame original, sino que devuelve un nuevo DataFrame con las filas seleccionadas.\n",
        "- Se puede usar en combinación con otras funciones de PySpark, como **select()**, **groupBy()**, **orderBy()**, **join()**, etc. para realizar operaciones más complejas en los DataFrames."
      ],
      "metadata": {
        "id": "rxdPcN4RRshs"
      }
    },
    {
      "cell_type": "code",
      "source": [
        "df_m = df.filter(df.genero == \"M\")\n",
        "df_m.show(5)"
      ],
      "metadata": {
        "colab": {
          "base_uri": "https://localhost:8080/"
        },
        "id": "5dPdFa0BQueI",
        "outputId": "9fb675a0-02f5-4977-849b-30bd445f67aa"
      },
      "execution_count": null,
      "outputs": [
        {
          "output_type": "stream",
          "name": "stdout",
          "text": [
            "+-------+------+----+\n",
            "| nombre|genero|edad|\n",
            "+-------+------+----+\n",
            "|    Bob|     M|  30|\n",
            "|Charlie|     M|  45|\n",
            "|   Dave|     M|  50|\n",
            "+-------+------+----+\n",
            "\n"
          ]
        }
      ]
    },
    {
      "cell_type": "markdown",
      "source": [
        "### 5. Usa la función **groupBy()** y la función **avg()** para calcular la edad promedio por género."
      ],
      "metadata": {
        "id": "6ES1MVKJ9vIy"
      }
    },
    {
      "cell_type": "code",
      "source": [
        "# Importar la función avg() de PySpark para calcular la edad promedio\n",
        "from pyspark.sql.functions import avg"
      ],
      "metadata": {
        "id": "muxnToQ6T2pN"
      },
      "execution_count": null,
      "outputs": []
    },
    {
      "cell_type": "markdown",
      "source": [
        "La función **agg()** se utiliza para aplicar una o varias funciones de agregación (**como avg(), count(), sum(),** etc.) a los datos de un grupo específico. "
      ],
      "metadata": {
        "id": "FeIcfAJrUsrq"
      }
    },
    {
      "cell_type": "code",
      "source": [
        "# se agrupa por la columna \"genero\" y se aplica la función avg() a la columna \"edad\".\n",
        "df_avg = df.groupBy(\"genero\").agg(avg(\"edad\"))\n",
        "# mostrar el dataframe\n",
        "df_avg.show()"
      ],
      "metadata": {
        "colab": {
          "base_uri": "https://localhost:8080/"
        },
        "id": "aAwMKq07UwLf",
        "outputId": "acfec2e9-6acd-48bb-a5fb-e19983e6f357"
      },
      "execution_count": null,
      "outputs": [
        {
          "output_type": "stream",
          "name": "stdout",
          "text": [
            "+------+------------------+\n",
            "|genero|         avg(edad)|\n",
            "+------+------------------+\n",
            "|     F|              30.0|\n",
            "|     M|41.666666666666664|\n",
            "+------+------------------+\n",
            "\n"
          ]
        }
      ]
    },
    {
      "cell_type": "markdown",
      "source": [
        "### 6. Usa la función **withColumn()** para crear una nueva columna llamada **grupo_edad** que mapee la edad de cada persona a un grupo de edad. Por ejemplo, si la edad de una persona es 25, su grupo de edad sería \"20-29\". *Muestra las primeras 5 filas del DataFrame resultante.*"
      ],
      "metadata": {
        "id": "dZj07q7C9374"
      }
    },
    {
      "cell_type": "code",
      "source": [
        "from pyspark.sql.functions import when\n",
        "\n",
        "# Definir las condiciones de cada grupo de edad\n",
        "condiciones = [ \n",
        "    (df.edad >= 20) & (df.edad <= 29),\n",
        "    (df.edad >= 30) & (df.edad <= 39),\n",
        "    (df.edad >= 40) & (df.edad <= 49),\n",
        "    (df.edad >= 50)\n",
        "]\n",
        "\n",
        "# Definir las etiquetas para cada grupo de edad\n",
        "etiquetas = [\"20-29\", \"30-39\", \"40-49\", \"50+\"]\n",
        "\n",
        "# Usar la función when() para mapear cada edad a un grupo de edad\n",
        "df_grupo_edad = df.withColumn(\"grupo_edad\", \n",
        "                              when(condiciones[0], etiquetas[0])\n",
        "                              .when(condiciones[1], etiquetas[1])\n",
        "                              .when(condiciones[2], etiquetas[2])\n",
        "                              .when(condiciones[3], etiquetas[3]))\n",
        "\n",
        "# Mostrar las primeras 5 filas del DataFrame resultante\n",
        "df_grupo_edad.show(5)\n"
      ],
      "metadata": {
        "colab": {
          "base_uri": "https://localhost:8080/"
        },
        "id": "p0yjLJ4LBsKX",
        "outputId": "a0379148-d084-49b6-9091-cd86ce8442c1"
      },
      "execution_count": null,
      "outputs": [
        {
          "output_type": "stream",
          "name": "stdout",
          "text": [
            "+-------+------+----+----------+\n",
            "| nombre|genero|edad|grupo_edad|\n",
            "+-------+------+----+----------+\n",
            "|  Alice|     F|  25|     20-29|\n",
            "|    Bob|     M|  30|     30-39|\n",
            "|Charlie|     M|  45|     40-49|\n",
            "|   Dave|     M|  50|       50+|\n",
            "|    Eve|     F|  35|     30-39|\n",
            "+-------+------+----+----------+\n",
            "\n"
          ]
        }
      ]
    },
    {
      "cell_type": "markdown",
      "source": [
        "### 7. Usa la función **agg()** para calcular la cantidad de personas en cada grupo de edad."
      ],
      "metadata": {
        "id": "P5D54PduBs6I"
      }
    },
    {
      "cell_type": "markdown",
      "source": [
        "**agg()** \n",
        "- es una herramienta esencial para calcular estadísticas y realizar operaciones de agregación en PySpark.\n",
        "- se utiliza comúnmente junto con la función groupBy(), que se utiliza para agrupar los datos en el DataFrame según una o varias columnas."
      ],
      "metadata": {
        "id": "eRTHUubVYvsN"
      }
    },
    {
      "cell_type": "code",
      "source": [
        "from pyspark.sql.functions import count\n",
        "\n",
        "# Agrupar el DataFrame por la columna \"grupo_edad\" y contar la cantidad de registros en cada grupo\n",
        "df_grupo_edad_count = df_grupo_edad.groupBy(\"grupo_edad\").agg(count(\"*\").alias(\"cantidad_personas\"))\n",
        "\n",
        "# Mostrar el DataFrame resultante\n",
        "df_grupo_edad_count.show()\n"
      ],
      "metadata": {
        "colab": {
          "base_uri": "https://localhost:8080/"
        },
        "id": "UZ2EnbwXBqTT",
        "outputId": "ff9e3dbb-36df-4d6d-a157-8714ebaebc84"
      },
      "execution_count": null,
      "outputs": [
        {
          "output_type": "stream",
          "name": "stdout",
          "text": [
            "+----------+-----------------+\n",
            "|grupo_edad|cantidad_personas|\n",
            "+----------+-----------------+\n",
            "|     30-39|                2|\n",
            "|     20-29|                1|\n",
            "|       50+|                1|\n",
            "|     40-49|                1|\n",
            "+----------+-----------------+\n",
            "\n"
          ]
        }
      ]
    },
    {
      "cell_type": "markdown",
      "source": [
        "## Parte 2"
      ],
      "metadata": {
        "id": "hNX9GblyBwSg"
      }
    },
    {
      "cell_type": "markdown",
      "source": [
        "### 1. Crea el siguiente **dataframe:**\n",
        "```\n",
        "data = [(\"Bob\", 25, \"M\", 50000),\n",
        "  (\"Alice\", 32, \"F\", 60000),\n",
        "  (\"Charlie\", 45, \"M\", 80000),\n",
        "  (\"Dave\", 50, \"M\", 75000),\n",
        "  (\"Eve\", 35, \"F\", 70000)]\n",
        "\n",
        "df = spark.createDataFrame(data, [\"nombre\", \"edad\", \"genero\", \"salario\"])\n",
        "df.show()\n",
        "```"
      ],
      "metadata": {
        "id": "I9ubVqTCChgb"
      }
    },
    {
      "cell_type": "code",
      "source": [
        "from pyspark.sql import SparkSession\n",
        "# Crear una sesión de Spark\n",
        "spark = SparkSession.builder.appName(\"personas\").getOrCreate()\n",
        "\n",
        "# Crear los datos para el DataFrame\n",
        "data = [(\"Bob\", 25, \"M\", 50000), \n",
        " (\"Alice\", 32, \"F\", 60000), \n",
        " (\"Charlie\", 45, \"M\", 80000), \n",
        " (\"Dave\", 50, \"M\", 75000), \n",
        " (\"Eve\", 35, \"F\", 70000)]\n",
        "\n",
        "# Crear el DataFrame a partir de los datos\n",
        "df = spark.createDataFrame(data, [\"nombre\", \"edad\", \"genero\", \"salario\"])\n",
        "# Mostrar el DataFrame\n",
        "df.show()"
      ],
      "metadata": {
        "colab": {
          "base_uri": "https://localhost:8080/"
        },
        "id": "9vRuV02iYy-k",
        "outputId": "4c5163a1-153a-4ac1-894c-77cbc7293a67"
      },
      "execution_count": null,
      "outputs": [
        {
          "output_type": "stream",
          "name": "stdout",
          "text": [
            "+-------+----+------+-------+\n",
            "| nombre|edad|genero|salario|\n",
            "+-------+----+------+-------+\n",
            "|    Bob|  25|     M|  50000|\n",
            "|  Alice|  32|     F|  60000|\n",
            "|Charlie|  45|     M|  80000|\n",
            "|   Dave|  50|     M|  75000|\n",
            "|    Eve|  35|     F|  70000|\n",
            "+-------+----+------+-------+\n",
            "\n"
          ]
        }
      ]
    },
    {
      "cell_type": "markdown",
      "source": [
        "### 2. Usa la función **select()** para seleccionar las columnas nombre y salario. Muestra las primeras 5 filas del DataFrame resultante."
      ],
      "metadata": {
        "id": "CspZxYhaDGTV"
      }
    },
    {
      "cell_type": "code",
      "source": [
        "# Seleccionar las columnas nombre y salario\n",
        "df_nombres_salarios = df.select(\"nombre\", \"salario\")\n",
        "# Mostrar las primeras 5 filas del DataFrame resultante\n",
        "df_nombres_salarios.show(5)"
      ],
      "metadata": {
        "colab": {
          "base_uri": "https://localhost:8080/"
        },
        "id": "HbxWVrntY6c-",
        "outputId": "10878ebd-2926-4c22-a653-1dbb4c668f68"
      },
      "execution_count": null,
      "outputs": [
        {
          "output_type": "stream",
          "name": "stdout",
          "text": [
            "+-------+-------+\n",
            "| nombre|salario|\n",
            "+-------+-------+\n",
            "|    Bob|  50000|\n",
            "|  Alice|  60000|\n",
            "|Charlie|  80000|\n",
            "|   Dave|  75000|\n",
            "|    Eve|  70000|\n",
            "+-------+-------+\n",
            "\n"
          ]
        }
      ]
    },
    {
      "cell_type": "markdown",
      "source": [
        "### 3. Usa la función **orderBy()** para ordenar el DataFrame por edad de forma descendente. Muestra las primeras 5 filas del DataFrame resultante."
      ],
      "metadata": {
        "id": "SNAlskWLDVuu"
      }
    },
    {
      "cell_type": "code",
      "source": [
        "# Ordenar el DataFrame por edad de forma descendente\n",
        "df_edad_descendente = df.orderBy(df.edad.desc())\n",
        "\n",
        "# Mostrar las primeras 5 filas del DataFrame resultante\n",
        "df_edad_descendente.show(5)"
      ],
      "metadata": {
        "colab": {
          "base_uri": "https://localhost:8080/"
        },
        "id": "L5Nw1Rq-ZJZ3",
        "outputId": "e74b6c50-1dee-4a05-a62d-1881b0ec7ae5"
      },
      "execution_count": null,
      "outputs": [
        {
          "output_type": "stream",
          "name": "stdout",
          "text": [
            "+-------+----+------+-------+\n",
            "| nombre|edad|genero|salario|\n",
            "+-------+----+------+-------+\n",
            "|   Dave|  50|     M|  75000|\n",
            "|Charlie|  45|     M|  80000|\n",
            "|    Eve|  35|     F|  70000|\n",
            "|  Alice|  32|     F|  60000|\n",
            "|    Bob|  25|     M|  50000|\n",
            "+-------+----+------+-------+\n",
            "\n"
          ]
        }
      ]
    },
    {
      "cell_type": "markdown",
      "source": [
        "### 4. Usa la función **filter()** para seleccionar las filas donde el género es \"F\" y el salario es mayor que 65000. Muestra las primeras 5 filas del DataFrame resultante."
      ],
      "metadata": {
        "id": "vVFGbQKpDZ9Q"
      }
    },
    {
      "cell_type": "code",
      "source": [
        "# Seleccionar las filas donde el género es \"F\" y el salario es mayor que 65000\n",
        "df_f_salario = df.filter((df.genero == \"F\") & (df.salario > 65000))\n",
        "\n",
        "# Mostrar las primeras 5 filas del DataFrame resultante\n",
        "df_f_salario.show(5)"
      ],
      "metadata": {
        "colab": {
          "base_uri": "https://localhost:8080/"
        },
        "id": "CorS7PmgZOdV",
        "outputId": "c5ba028e-8fa1-414e-b3f6-33913efba12f"
      },
      "execution_count": null,
      "outputs": [
        {
          "output_type": "stream",
          "name": "stdout",
          "text": [
            "+------+----+------+-------+\n",
            "|nombre|edad|genero|salario|\n",
            "+------+----+------+-------+\n",
            "|   Eve|  35|     F|  70000|\n",
            "+------+----+------+-------+\n",
            "\n"
          ]
        }
      ]
    },
    {
      "cell_type": "markdown",
      "source": [
        "### 5. Usa la función **groupBy()** y la función **sum()** para calcular la suma total de salarios por género. "
      ],
      "metadata": {
        "id": "Hc_RIdJODfdm"
      }
    },
    {
      "cell_type": "code",
      "source": [
        "from pyspark.sql.functions import sum\n",
        "# Calcular la suma total de salarios por género\n",
        "df_suma_salarios = df.groupBy(\"genero\").sum(\"salario\")\n",
        "\n",
        "# Mostrar el DataFrame resultante\n",
        "df_suma_salarios.show()"
      ],
      "metadata": {
        "colab": {
          "base_uri": "https://localhost:8080/"
        },
        "id": "NGsQYx9kZW7O",
        "outputId": "90f1cef7-628c-4c53-8c48-efbc0da93693"
      },
      "execution_count": null,
      "outputs": [
        {
          "output_type": "stream",
          "name": "stdout",
          "text": [
            "+------+------------+\n",
            "|genero|sum(salario)|\n",
            "+------+------------+\n",
            "|     F|      130000|\n",
            "|     M|      205000|\n",
            "+------+------------+\n",
            "\n"
          ]
        }
      ]
    },
    {
      "cell_type": "markdown",
      "source": [
        "### 6. Usa la función **withColumn()** para crear una nueva columna llamada ***salario_anual*** que muestre el salario anual de cada persona. Muestra las primeras 5 filas del DataFrame resultante."
      ],
      "metadata": {
        "id": "ZwUB1tw8Dneq"
      }
    },
    {
      "cell_type": "code",
      "source": [
        "# Crear una nueva columna llamada \"salario_anual\" que muestre el salario anual de cada persona\n",
        "df_con_salario_anual = df.withColumn(\"salario_anual\", df.salario * 12)\n",
        "\n",
        "# Mostrar las primeras 5 filas del DataFrame resultante\n",
        "df_con_salario_anual.show(5)"
      ],
      "metadata": {
        "colab": {
          "base_uri": "https://localhost:8080/"
        },
        "id": "XPkU31jHZceO",
        "outputId": "79af7f9b-d579-4f55-ec12-74d47b7e6e63"
      },
      "execution_count": null,
      "outputs": [
        {
          "output_type": "stream",
          "name": "stdout",
          "text": [
            "+-------+----+------+-------+-------------+\n",
            "| nombre|edad|genero|salario|salario_anual|\n",
            "+-------+----+------+-------+-------------+\n",
            "|    Bob|  25|     M|  50000|       600000|\n",
            "|  Alice|  32|     F|  60000|       720000|\n",
            "|Charlie|  45|     M|  80000|       960000|\n",
            "|   Dave|  50|     M|  75000|       900000|\n",
            "|    Eve|  35|     F|  70000|       840000|\n",
            "+-------+----+------+-------+-------------+\n",
            "\n"
          ]
        }
      ]
    },
    {
      "cell_type": "markdown",
      "source": [
        "### 7. Usa la función **agg()** para calcular la edad promedio y el salario máximo del DataFrame."
      ],
      "metadata": {
        "id": "js7X0Up1FHbc"
      }
    },
    {
      "cell_type": "code",
      "source": [
        "from pyspark.sql.functions import avg, max\n",
        "# Mostrar el DataFrame inicial\n",
        "df.show()"
      ],
      "metadata": {
        "colab": {
          "base_uri": "https://localhost:8080/"
        },
        "id": "jJ0a-7EzZf70",
        "outputId": "a2744ab7-6935-48d8-b59f-08dbb2ad2f0f"
      },
      "execution_count": null,
      "outputs": [
        {
          "output_type": "stream",
          "name": "stdout",
          "text": [
            "+-------+----+------+-------+\n",
            "| nombre|edad|genero|salario|\n",
            "+-------+----+------+-------+\n",
            "|    Bob|  25|     M|  50000|\n",
            "|  Alice|  32|     F|  60000|\n",
            "|Charlie|  45|     M|  80000|\n",
            "|   Dave|  50|     M|  75000|\n",
            "|    Eve|  35|     F|  70000|\n",
            "+-------+----+------+-------+\n",
            "\n"
          ]
        }
      ]
    },
    {
      "cell_type": "code",
      "source": [
        "# Calcular la edad promedio y el salario máximo del DataFrame\n",
        "resultados = df.agg({\"edad\": \"avg\", \"salario\": \"max\"})\n",
        "# Mostrar el DataFrame resultante\n",
        "resultados.show()"
      ],
      "metadata": {
        "colab": {
          "base_uri": "https://localhost:8080/"
        },
        "id": "NDoBPHUlZpgt",
        "outputId": "c73a48b3-95f4-46d6-ec9e-67b39d109e3c"
      },
      "execution_count": null,
      "outputs": [
        {
          "output_type": "stream",
          "name": "stdout",
          "text": [
            "+------------+---------+\n",
            "|max(salario)|avg(edad)|\n",
            "+------------+---------+\n",
            "|       80000|     37.4|\n",
            "+------------+---------+\n",
            "\n"
          ]
        }
      ]
    },
    {
      "cell_type": "markdown",
      "source": [
        "### 8. Usa la función **groupBy()** y la **función count()** para contar el número de personas por género."
      ],
      "metadata": {
        "id": "OG-I5xsdFPgk"
      }
    },
    {
      "cell_type": "code",
      "source": [
        "from pyspark.sql.functions import count\n",
        "# Contar el número de personas por género\n",
        "conteo_por_genero = df.groupBy(\"genero\").count()\n",
        "# Mostrar el DataFrame resultante\n",
        "conteo_por_genero.show()"
      ],
      "metadata": {
        "colab": {
          "base_uri": "https://localhost:8080/"
        },
        "id": "uSefXgh3ZsuN",
        "outputId": "ccb226d2-171f-4d5c-e00b-57add32a10a1"
      },
      "execution_count": null,
      "outputs": [
        {
          "output_type": "stream",
          "name": "stdout",
          "text": [
            "+------+-----+\n",
            "|genero|count|\n",
            "+------+-----+\n",
            "|     F|    2|\n",
            "|     M|    3|\n",
            "+------+-----+\n",
            "\n"
          ]
        }
      ]
    },
    {
      "cell_type": "markdown",
      "source": [
        "### 9. Usa la función **filter()** para seleccionar las filas donde la edad está entre 30 y 40 años (inclusive). Muestra las primeras 5 filas del DataFrame resultante"
      ],
      "metadata": {
        "id": "7KNyLITGFlXn"
      }
    },
    {
      "cell_type": "code",
      "source": [
        "# Seleccionar las filas donde la edad está entre 30 y 40 años\n",
        "filtro_edad = df.filter((df.edad >= 30) & (df.edad <= 40))\n",
        "# Mostrar las primeras 5 filas del DataFrame resultante\n",
        "filtro_edad.show(5)"
      ],
      "metadata": {
        "colab": {
          "base_uri": "https://localhost:8080/"
        },
        "id": "yJrqvtnXZ7rN",
        "outputId": "5a9341f0-d7c7-43a7-b0bd-64936ae09d46"
      },
      "execution_count": null,
      "outputs": [
        {
          "output_type": "stream",
          "name": "stdout",
          "text": [
            "+------+----+------+-------+\n",
            "|nombre|edad|genero|salario|\n",
            "+------+----+------+-------+\n",
            "| Alice|  32|     F|  60000|\n",
            "|   Eve|  35|     F|  70000|\n",
            "+------+----+------+-------+\n",
            "\n"
          ]
        }
      ]
    },
    {
      "cell_type": "markdown",
      "source": [
        "### 10. Usa la función **withColumnRenamed()** para cambiar el nombre de la columna \"edad\" a \"años\". Muestra las primeras 5 filas del DataFrame resultante."
      ],
      "metadata": {
        "id": "CZNOQhpEFs1-"
      }
    },
    {
      "cell_type": "code",
      "source": [
        "# Mostrar el DataFrame inicial\n",
        "df.show()"
      ],
      "metadata": {
        "colab": {
          "base_uri": "https://localhost:8080/"
        },
        "id": "M3D9mY74Z_SF",
        "outputId": "92469b0d-c908-47a9-a559-e37133de6ebc"
      },
      "execution_count": null,
      "outputs": [
        {
          "output_type": "stream",
          "name": "stdout",
          "text": [
            "+-------+----+------+-------+\n",
            "| nombre|edad|genero|salario|\n",
            "+-------+----+------+-------+\n",
            "|    Bob|  25|     M|  50000|\n",
            "|  Alice|  32|     F|  60000|\n",
            "|Charlie|  45|     M|  80000|\n",
            "|   Dave|  50|     M|  75000|\n",
            "|    Eve|  35|     F|  70000|\n",
            "+-------+----+------+-------+\n",
            "\n"
          ]
        }
      ]
    },
    {
      "cell_type": "code",
      "source": [
        "# Renombrar la columna \"edad\" a \"años\"\n",
        "df_con_nombres_nuevos = df.withColumnRenamed(\"edad\", \"años\")\n",
        "\n",
        "# Mostrar las primeras 5 filas del DataFrame resultante\n",
        "df_con_nombres_nuevos.show(5)"
      ],
      "metadata": {
        "colab": {
          "base_uri": "https://localhost:8080/"
        },
        "id": "E_yZf3DqaCJl",
        "outputId": "87f4d99b-14c1-4033-ae61-bdac7f0faf04"
      },
      "execution_count": null,
      "outputs": [
        {
          "output_type": "stream",
          "name": "stdout",
          "text": [
            "+-------+----+------+-------+\n",
            "| nombre|años|genero|salario|\n",
            "+-------+----+------+-------+\n",
            "|    Bob|  25|     M|  50000|\n",
            "|  Alice|  32|     F|  60000|\n",
            "|Charlie|  45|     M|  80000|\n",
            "|   Dave|  50|     M|  75000|\n",
            "|    Eve|  35|     F|  70000|\n",
            "+-------+----+------+-------+\n",
            "\n"
          ]
        }
      ]
    },
    {
      "cell_type": "markdown",
      "source": [
        "### 11. Usa la función when() para crear una nueva columna llamada  \"categoria_salarial\" que tenga los valores \"bajo\" para salarios menores o iguales a 60000, \"medio\" para salarios mayores que 60000 y menores o iguales a 75000, y \"alto\" para salarios mayores que 75000. Muestra las primeras 5 filas del DataFrame resultante."
      ],
      "metadata": {
        "id": "Y-2Xul4XFzuf"
      }
    },
    {
      "cell_type": "code",
      "source": [
        "from pyspark.sql.functions import when\n",
        "\n",
        "# Crear la nueva columna \"categoria_salarial\" utilizando la función when()\n",
        "df_con_categorias = df.withColumn(\"categoria_salarial\",\n",
        "                                  when(df[\"salario\"] <= 60000, \"bajo\")\n",
        "                                  .when((df[\"salario\"] > 60000) & (df[\"salario\"] <= 75000), \"medio\")\n",
        "                                  .otherwise(\"alto\"))\n",
        "\n",
        "# Mostrar las primeras 5 filas del DataFrame resultante\n",
        "df_con_categorias.show(5)"
      ],
      "metadata": {
        "colab": {
          "base_uri": "https://localhost:8080/"
        },
        "id": "KLT9b2Z0aFPP",
        "outputId": "c2526383-2d3a-420f-9a2d-c11a56458917"
      },
      "execution_count": null,
      "outputs": [
        {
          "output_type": "stream",
          "name": "stdout",
          "text": [
            "+-------+----+------+-------+------------------+\n",
            "| nombre|edad|genero|salario|categoria_salarial|\n",
            "+-------+----+------+-------+------------------+\n",
            "|    Bob|  25|     M|  50000|              bajo|\n",
            "|  Alice|  32|     F|  60000|              bajo|\n",
            "|Charlie|  45|     M|  80000|              alto|\n",
            "|   Dave|  50|     M|  75000|             medio|\n",
            "|    Eve|  35|     F|  70000|             medio|\n",
            "+-------+----+------+-------+------------------+\n",
            "\n"
          ]
        }
      ]
    },
    {
      "cell_type": "markdown",
      "source": [
        "### 12. Usa la función approxQuantile() para calcular el percentil 25 y el percentil 75 del salario."
      ],
      "metadata": {
        "id": "0QACs1uoIdBK"
      }
    },
    {
      "cell_type": "code",
      "source": [
        "#Calcular los percentiles 25 y 75 del salario\n",
        "percentiles = df.approxQuantile(\"salario\", [0.25, 0.75], 0)\n",
        "\n",
        "#Mostrar los percentiles calculados\n",
        "print(\"Percentil 25 del salario:\", percentiles[0])\n",
        "print(\"Percentil 75 del salario:\", percentiles[1])"
      ],
      "metadata": {
        "colab": {
          "base_uri": "https://localhost:8080/"
        },
        "id": "aK-bcPeYabOV",
        "outputId": "40bce4b9-b9ae-46d3-8b6b-3eac4181f063"
      },
      "execution_count": null,
      "outputs": [
        {
          "output_type": "stream",
          "name": "stdout",
          "text": [
            "Percentil 25 del salario: 60000.0\n",
            "Percentil 75 del salario: 75000.0\n"
          ]
        }
      ]
    },
    {
      "cell_type": "markdown",
      "source": [
        "## **Extra:**"
      ],
      "metadata": {
        "id": "jkG_9_myKWRc"
      }
    },
    {
      "cell_type": "markdown",
      "source": [
        "### 1. Supongamos que tenemos un conjunto de datos con información sobre películas que incluye los siguientes campos:\n",
        "\n",
        "* **title:** el título de la película\n",
        "* **year:** el año de estreno de la película\n",
        "* **genre:** el género de la película\n",
        "* **runtime:** la duración en minutos de la película\n",
        "* **rating:** la calificación promedio de la película en una escala del 1 al 10\n",
        "* **votes:** el número de votos que recibió la película"
      ],
      "metadata": {
        "id": "bmf-_ZZyKegZ"
      }
    },
    {
      "cell_type": "code",
      "source": [
        "from pyspark.sql import SparkSession\n",
        "\n",
        "# Crear una sesión de Spark\n",
        "spark = SparkSession.builder.appName(\"DataFrame\").getOrCreate()\n",
        "\n",
        "# Crear los datos para el DataFrame\n",
        "data = [(\"The Shawshank Redemption\", 1994, \"Drama\", 142, 9.3, 9998),\n",
        "        (\"The Godfather\", 1972, \"Crime\", 175, 9.2, 8888),\n",
        "        (\"The Dark Knight\", 2008, \"Drama\", 152, 9.0, 7777),\n",
        "        (\"The Lord of the Rings: The Return of the King\", 2003, \"Action\", 201, 8.9, 6666),\n",
        "        (\"Pulp Fiction\", 1994, \"Crime\", 154, 8.9, 5555),\n",
        "        (\"Schindler's List\", 1993, \"Biography\", 195, 8.9, 4444),\n",
        "        (\"The Lord of the Rings: The Fellowship of the Ring\", 2002, \"Action\", 179, 8.8, 3333),\n",
        "        (\"Forrest Gump\", 1994, \"Comedy\", 142, 8.8, 2222),\n",
        "        (\"Inception\", 2010, \"Action\", 148, 8.8, 1111)]\n",
        "        \n",
        "# Crear el DataFrame a partir de los datos\n",
        "df = spark.createDataFrame(data, [\"title\", \"year\", \"genre\", \"runtime\", \"rating\"])\n",
        "\n",
        "# Mostrar el DataFrame\n",
        "df.show()"
      ],
      "metadata": {
        "colab": {
          "base_uri": "https://localhost:8080/"
        },
        "id": "PQv_SrxhMIm8",
        "outputId": "b677693a-548e-40ad-fb4f-90b43335641c"
      },
      "execution_count": null,
      "outputs": [
        {
          "output_type": "stream",
          "name": "stdout",
          "text": [
            "+--------------------+----+---------+-------+------+----+\n",
            "|               title|year|    genre|runtime|rating|  _6|\n",
            "+--------------------+----+---------+-------+------+----+\n",
            "|The Shawshank Red...|1994|    Drama|    142|   9.3|9998|\n",
            "|       The Godfather|1972|    Crime|    175|   9.2|8888|\n",
            "|     The Dark Knight|2008|    Drama|    152|   9.0|7777|\n",
            "|The Lord of the R...|2003|   Action|    201|   8.9|6666|\n",
            "|        Pulp Fiction|1994|    Crime|    154|   8.9|5555|\n",
            "|    Schindler's List|1993|Biography|    195|   8.9|4444|\n",
            "|The Lord of the R...|2002|   Action|    179|   8.8|3333|\n",
            "|        Forrest Gump|1994|   Comedy|    142|   8.8|2222|\n",
            "|           Inception|2010|   Action|    148|   8.8|1111|\n",
            "+--------------------+----+---------+-------+------+----+\n",
            "\n"
          ]
        }
      ]
    },
    {
      "cell_type": "markdown",
      "source": [
        "### 2. Usa la función concat para crear una nueva columna llamada **title_year** que contenga el título de la película seguido del año de estreno, separados por un espacio."
      ],
      "metadata": {
        "id": "tdLu8_XIbEQl"
      }
    },
    {
      "cell_type": "code",
      "source": [
        "from pyspark.sql.functions import concat\n",
        "\n",
        "# Agregar la columna title_year\n",
        "df = df.withColumn(\"title_year\", concat(\"title\", \"year\"))\n",
        "\n",
        "# Mostrar el DataFrame actualizado\n",
        "df.show()"
      ],
      "metadata": {
        "colab": {
          "base_uri": "https://localhost:8080/"
        },
        "id": "L2izRlkEbEot",
        "outputId": "61bab06e-3741-40ee-a94c-f0480503ac44"
      },
      "execution_count": null,
      "outputs": [
        {
          "output_type": "stream",
          "name": "stdout",
          "text": [
            "+--------------------+----+---------+-------+------+----+--------------------+\n",
            "|               title|year|    genre|runtime|rating|  _6|          title_year|\n",
            "+--------------------+----+---------+-------+------+----+--------------------+\n",
            "|The Shawshank Red...|1994|    Drama|    142|   9.3|9998|The Shawshank Red...|\n",
            "|       The Godfather|1972|    Crime|    175|   9.2|8888|   The Godfather1972|\n",
            "|     The Dark Knight|2008|    Drama|    152|   9.0|7777| The Dark Knight2008|\n",
            "|The Lord of the R...|2003|   Action|    201|   8.9|6666|The Lord of the R...|\n",
            "|        Pulp Fiction|1994|    Crime|    154|   8.9|5555|    Pulp Fiction1994|\n",
            "|    Schindler's List|1993|Biography|    195|   8.9|4444|Schindler's List1993|\n",
            "|The Lord of the R...|2002|   Action|    179|   8.8|3333|The Lord of the R...|\n",
            "|        Forrest Gump|1994|   Comedy|    142|   8.8|2222|    Forrest Gump1994|\n",
            "|           Inception|2010|   Action|    148|   8.8|1111|       Inception2010|\n",
            "+--------------------+----+---------+-------+------+----+--------------------+\n",
            "\n"
          ]
        }
      ]
    },
    {
      "cell_type": "markdown",
      "source": [
        "### 3.Usa la función substring para crear una nueva columna llamada first_letter que contenga la primera letra del género de la película. El resultado debe ser el siguiente:"
      ],
      "metadata": {
        "id": "G9AO8fA1bcVW"
      }
    },
    {
      "cell_type": "code",
      "source": [
        "from pyspark.sql.functions import substring\n",
        "\n",
        "# Agregar la columna first_letter\n",
        "df = df.withColumn(\"first_letter\", substring(\"genre\", 1, 1))\n",
        "#Función substring extrae la primera letra de la columna \"genre\" y agregarla a una nueva columna llamada \"first_letter\".\n",
        "\n",
        "# Mostrar el DataFrame actualizado\n",
        "df.show()"
      ],
      "metadata": {
        "colab": {
          "base_uri": "https://localhost:8080/"
        },
        "id": "2l8D6_e_bgUg",
        "outputId": "c3ed5f96-d13b-4a0a-bce6-cbca25eeee37"
      },
      "execution_count": null,
      "outputs": [
        {
          "output_type": "stream",
          "name": "stdout",
          "text": [
            "+--------------------+----+---------+-------+------+----+--------------------+------------+\n",
            "|               title|year|    genre|runtime|rating|  _6|          title_year|first_letter|\n",
            "+--------------------+----+---------+-------+------+----+--------------------+------------+\n",
            "|The Shawshank Red...|1994|    Drama|    142|   9.3|9998|The Shawshank Red...|           D|\n",
            "|       The Godfather|1972|    Crime|    175|   9.2|8888|   The Godfather1972|           C|\n",
            "|     The Dark Knight|2008|    Drama|    152|   9.0|7777| The Dark Knight2008|           D|\n",
            "|The Lord of the R...|2003|   Action|    201|   8.9|6666|The Lord of the R...|           A|\n",
            "|        Pulp Fiction|1994|    Crime|    154|   8.9|5555|    Pulp Fiction1994|           C|\n",
            "|    Schindler's List|1993|Biography|    195|   8.9|4444|Schindler's List1993|           B|\n",
            "|The Lord of the R...|2002|   Action|    179|   8.8|3333|The Lord of the R...|           A|\n",
            "|        Forrest Gump|1994|   Comedy|    142|   8.8|2222|    Forrest Gump1994|           C|\n",
            "|           Inception|2010|   Action|    148|   8.8|1111|       Inception2010|           A|\n",
            "+--------------------+----+---------+-------+------+----+--------------------+------------+\n",
            "\n"
          ]
        }
      ]
    },
    {
      "cell_type": "markdown",
      "source": [
        "### 4.Usa la función 'when' para crear una nueva columna llamada 'highly_rated' que tenga el valor 'True' si la calificación de la película es mayor a 9, y 'False' en caso contrario. El resultado debe ser el siguiente:"
      ],
      "metadata": {
        "id": "ZLtCTIlsbmm9"
      }
    },
    {
      "cell_type": "code",
      "source": [
        "# Agregar la columna highly_rated\n",
        "df = df.withColumn(\"highly_rated\", when(df[\"rating\"] > 9, True).otherwise(False))\n",
        "# Mostrar el DataFrame actualizado\n",
        "df.show()"
      ],
      "metadata": {
        "colab": {
          "base_uri": "https://localhost:8080/"
        },
        "id": "Jr6xYpVPbrpm",
        "outputId": "bec76ada-7a96-40f7-b022-ee22cc237870"
      },
      "execution_count": null,
      "outputs": [
        {
          "output_type": "stream",
          "name": "stdout",
          "text": [
            "+--------------------+----+---------+-------+------+----+--------------------+------------+------------+\n",
            "|               title|year|    genre|runtime|rating|  _6|          title_year|first_letter|highly_rated|\n",
            "+--------------------+----+---------+-------+------+----+--------------------+------------+------------+\n",
            "|The Shawshank Red...|1994|    Drama|    142|   9.3|9998|The Shawshank Red...|           D|        true|\n",
            "|       The Godfather|1972|    Crime|    175|   9.2|8888|   The Godfather1972|           C|        true|\n",
            "|     The Dark Knight|2008|    Drama|    152|   9.0|7777| The Dark Knight2008|           D|       false|\n",
            "|The Lord of the R...|2003|   Action|    201|   8.9|6666|The Lord of the R...|           A|       false|\n",
            "|        Pulp Fiction|1994|    Crime|    154|   8.9|5555|    Pulp Fiction1994|           C|       false|\n",
            "|    Schindler's List|1993|Biography|    195|   8.9|4444|Schindler's List1993|           B|       false|\n",
            "|The Lord of the R...|2002|   Action|    179|   8.8|3333|The Lord of the R...|           A|       false|\n",
            "|        Forrest Gump|1994|   Comedy|    142|   8.8|2222|    Forrest Gump1994|           C|       false|\n",
            "|           Inception|2010|   Action|    148|   8.8|1111|       Inception2010|           A|       false|\n",
            "+--------------------+----+---------+-------+------+----+--------------------+------------+------------+\n",
            "\n"
          ]
        }
      ]
    },
    {
      "cell_type": "markdown",
      "source": [
        "### 5. Usa la función filter para seleccionar solamente las películas que duran más de 150 minutos."
      ],
      "metadata": {
        "id": "s8fBxmISb411"
      }
    },
    {
      "cell_type": "code",
      "source": [
        "from pyspark.sql.functions import col\n",
        "\n",
        "# Aplicar la función filter para seleccionar películas con duración mayor a 150 minutos\n",
        "df_filtered = df.filter(col(\"runtime\") > 150)\n",
        "\n",
        "# Mostrar el DataFrame resultante\n",
        "df_filtered.show()"
      ],
      "metadata": {
        "colab": {
          "base_uri": "https://localhost:8080/"
        },
        "id": "UsrGuT3yb8cN",
        "outputId": "e6a7de37-85e6-4794-e7ab-16d7b2f3465b"
      },
      "execution_count": null,
      "outputs": [
        {
          "output_type": "stream",
          "name": "stdout",
          "text": [
            "+--------------------+----+---------+-------+------+----+--------------------+------------+------------+\n",
            "|               title|year|    genre|runtime|rating|  _6|          title_year|first_letter|highly_rated|\n",
            "+--------------------+----+---------+-------+------+----+--------------------+------------+------------+\n",
            "|       The Godfather|1972|    Crime|    175|   9.2|8888|   The Godfather1972|           C|        true|\n",
            "|     The Dark Knight|2008|    Drama|    152|   9.0|7777| The Dark Knight2008|           D|       false|\n",
            "|The Lord of the R...|2003|   Action|    201|   8.9|6666|The Lord of the R...|           A|       false|\n",
            "|        Pulp Fiction|1994|    Crime|    154|   8.9|5555|    Pulp Fiction1994|           C|       false|\n",
            "|    Schindler's List|1993|Biography|    195|   8.9|4444|Schindler's List1993|           B|       false|\n",
            "|The Lord of the R...|2002|   Action|    179|   8.8|3333|The Lord of the R...|           A|       false|\n",
            "+--------------------+----+---------+-------+------+----+--------------------+------------+------------+\n",
            "\n"
          ]
        }
      ]
    },
    {
      "cell_type": "markdown",
      "source": [
        "### 6. Usa la función **groupBy** y la función avg para calcular el promedio de calificación de las películas por género."
      ],
      "metadata": {
        "id": "cyZ9V-MdcFk1"
      }
    },
    {
      "cell_type": "code",
      "source": [
        "from pyspark.sql.functions import avg\n",
        "\n",
        "# Calcular el promedio de calificación por género\n",
        "avg_ratings_by_genre = df.groupBy(\"genre\").agg(avg(\"rating\").alias(\"avg_rating\"))\n",
        "\n",
        "# Mostrar el DataFrame resultante\n",
        "avg_ratings_by_genre.show()"
      ],
      "metadata": {
        "id": "Ztd3f3wwcKVn",
        "outputId": "3700fe23-d328-4cd9-a798-26e962055d1b",
        "colab": {
          "base_uri": "https://localhost:8080/"
        }
      },
      "execution_count": null,
      "outputs": [
        {
          "output_type": "stream",
          "name": "stdout",
          "text": [
            "+---------+-----------------+\n",
            "|    genre|       avg_rating|\n",
            "+---------+-----------------+\n",
            "|    Crime|             9.05|\n",
            "|    Drama|             9.15|\n",
            "|Biography|              8.9|\n",
            "|   Comedy|              8.8|\n",
            "|   Action|8.833333333333334|\n",
            "+---------+-----------------+\n",
            "\n"
          ]
        }
      ]
    }
  ]
}